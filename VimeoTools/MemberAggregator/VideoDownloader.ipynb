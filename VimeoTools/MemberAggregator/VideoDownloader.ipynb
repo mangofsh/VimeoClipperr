{
 "cells": [
  {
   "cell_type": "code",
   "execution_count": 1,
   "id": "b7eba2c5",
   "metadata": {},
   "outputs": [
    {
     "name": "stdout",
     "output_type": "stream",
     "text": [
      "Requirement already satisfied: requests in c:\\users\\yusef\\anaconda3\\envs\\vimeoaggregatorcondaenv\\lib\\site-packages (2.32.3)\n",
      "Requirement already satisfied: charset-normalizer<4,>=2 in c:\\users\\yusef\\anaconda3\\envs\\vimeoaggregatorcondaenv\\lib\\site-packages (from requests) (3.3.2)\n",
      "Requirement already satisfied: idna<4,>=2.5 in c:\\users\\yusef\\anaconda3\\envs\\vimeoaggregatorcondaenv\\lib\\site-packages (from requests) (3.8)\n",
      "Requirement already satisfied: urllib3<3,>=1.21.1 in c:\\users\\yusef\\anaconda3\\envs\\vimeoaggregatorcondaenv\\lib\\site-packages (from requests) (2.2.2)\n",
      "Requirement already satisfied: certifi>=2017.4.17 in c:\\users\\yusef\\anaconda3\\envs\\vimeoaggregatorcondaenv\\lib\\site-packages (from requests) (2024.8.30)\n",
      "Note: you may need to restart the kernel to use updated packages.\n",
      "sd - video/mp4: https://player.vimeo.com/progressive_redirect/download/896729164/container/e7f13efa-0025-4bfa-8542-27383287d2b1/a111f72e-fdc2b311/yusef_alimam_%28ya214%29_introduction_call_with_sm786_and_os312%20%28360p%29.mp4?expires=1744655953&loc=external&oauth2_token_id=1774424216&signature=44c1fd58d35036daa8a268c0af8a72739516730f7ec5e294e73a2406ffeac459&user_id=126655313\n",
      "hd - video/mp4: https://player.vimeo.com/progressive_redirect/download/896729164/container/e7f13efa-0025-4bfa-8542-27383287d2b1/dfc3dd2c-fdc2b311/yusef_alimam_%28ya214%29_introduction_call_with_sm786_and_os312%20%28720p%29.mp4?expires=1744655953&loc=external&oauth2_token_id=1774424216&signature=6bb78af97ad6e2fd84e083cd8a82632de74d22499d1a1f5ab1bdfaf937df1b96&user_id=126655313\n",
      "sd - video/mp4: https://player.vimeo.com/progressive_redirect/download/896729164/container/e7f13efa-0025-4bfa-8542-27383287d2b1/225d5a7d-fdc2b311/yusef_alimam_%28ya214%29_introduction_call_with_sm786_and_os312%20%28540p%29.mp4?expires=1744655953&loc=external&oauth2_token_id=1774424216&signature=5e5b54613b3d84df49ad6e1ba8f2bc57aacd4e6e7c22efc297a086c2402e3576&user_id=126655313\n",
      "sd - video/mp4: https://player.vimeo.com/progressive_redirect/download/896729164/container/e7f13efa-0025-4bfa-8542-27383287d2b1/67fb56d1-fdc2b311/yusef_alimam_%28ya214%29_introduction_call_with_sm786_and_os312%20%28240p%29.mp4?expires=1744655953&loc=external&oauth2_token_id=1774424216&signature=91f45a62a48e8d37b2bc22c32f5642ba215615a32b4277f040508e96629b5288&user_id=126655313\n"
     ]
    }
   ],
   "source": [
    "# 🛠️ Step 1: Install required libraries (if not already)\n",
    "%pip install requests\n",
    "\n",
    "# 📥 Step 2: Set up Vimeo access credentials and video ID\n",
    "ACCESS_TOKEN = '8fc86a2f9c10b852c534517e2d85f2fb'  # Replace this with your actual token\n",
    "VIDEO_ID = '896729164'\n",
    "\n",
    "# 🎯 Step 3: Make request to Vimeo API\n",
    "import requests\n",
    "\n",
    "headers = {\n",
    "    \"Authorization\": f\"Bearer {ACCESS_TOKEN}\"\n",
    "}\n",
    "\n",
    "response = requests.get(\n",
    "    f\"https://api.vimeo.com/videos/{VIDEO_ID}\",\n",
    "    headers=headers\n",
    ")\n",
    "\n",
    "if response.status_code == 200:\n",
    "    video_data = response.json()\n",
    "    download_links = video_data.get('download', [])\n",
    "    \n",
    "    if not download_links:\n",
    "        print(\"⚠️ No download links available. Check if the access token has `video_files` scope.\")\n",
    "    else:\n",
    "        for link in download_links:\n",
    "            print(f\"{link['quality']} - {link['type']}: {link['link']}\")\n",
    "else:\n",
    "    print(f\"❌ Failed to fetch video info. Status: {response.status_code}\")\n",
    "    print(response.json())\n"
   ]
  },
  {
   "cell_type": "code",
   "execution_count": 1,
   "id": "82699fef",
   "metadata": {},
   "outputs": [
    {
     "name": "stdout",
     "output_type": "stream",
     "text": [
      "Requirement already satisfied: requests in c:\\users\\yusef\\anaconda3\\envs\\vimeoaggregatorcondaenv\\lib\\site-packages (2.32.3)\n",
      "Requirement already satisfied: charset-normalizer<4,>=2 in c:\\users\\yusef\\anaconda3\\envs\\vimeoaggregatorcondaenv\\lib\\site-packages (from requests) (3.3.2)\n",
      "Requirement already satisfied: idna<4,>=2.5 in c:\\users\\yusef\\anaconda3\\envs\\vimeoaggregatorcondaenv\\lib\\site-packages (from requests) (3.8)\n",
      "Requirement already satisfied: urllib3<3,>=1.21.1 in c:\\users\\yusef\\anaconda3\\envs\\vimeoaggregatorcondaenv\\lib\\site-packages (from requests) (2.2.2)\n",
      "Requirement already satisfied: certifi>=2017.4.17 in c:\\users\\yusef\\anaconda3\\envs\\vimeoaggregatorcondaenv\\lib\\site-packages (from requests) (2024.8.30)\n",
      "Note: you may need to restart the kernel to use updated packages.\n",
      "⬇️ Downloading lowest res: sd - 240p\n",
      "✅ Download complete: 1014592939_sd_240p.mp4\n"
     ]
    }
   ],
   "source": [
    "# 🛠️ Step 1: Install required libraries (if not already)\n",
    "%pip install requests\n",
    "\n",
    "# 📥 Step 2: Set up Vimeo access credentials and video ID\n",
    "ACCESS_TOKEN = '8fc86a2f9c10b852c534517e2d85f2fb'  # Replace this with your actual token\n",
    "VIDEO_ID = '1014592939'\n",
    "\n",
    "# 🎯 Step 3: Make request to Vimeo API\n",
    "import requests\n",
    "\n",
    "headers = {\n",
    "    \"Authorization\": f\"Bearer {ACCESS_TOKEN}\"\n",
    "}\n",
    "\n",
    "response = requests.get(\n",
    "    f\"https://api.vimeo.com/videos/{VIDEO_ID}\",\n",
    "    headers=headers\n",
    ")\n",
    "\n",
    "if response.status_code != 200:\n",
    "    print(f\"❌ Failed to fetch video info. Status: {response.status_code}\")\n",
    "    print(response.json())\n",
    "else:\n",
    "    video_data = response.json()\n",
    "    download_links = video_data.get('download', [])\n",
    "    \n",
    "    if not download_links:\n",
    "        print(\"⚠️ No download links available. Check if the access token has `video_files` scope.\")\n",
    "    else:\n",
    "        # 📉 Find the lowest resolution link\n",
    "        def get_resolution(link):\n",
    "            return link.get('height', 99999)  # fallback large value if missing\n",
    "\n",
    "        lowest_link = min(download_links, key=get_resolution)\n",
    "        \n",
    "        print(f\"⬇️ Downloading lowest res: {lowest_link['quality']} - {lowest_link['height']}p\")\n",
    "\n",
    "        file_name = f\"{VIDEO_ID}_{lowest_link['quality']}_{lowest_link['height']}p.mp4\"\n",
    "        download_url = lowest_link['link']\n",
    "\n",
    "        with requests.get(download_url, stream=True) as r:\n",
    "            r.raise_for_status()\n",
    "            with open(file_name, 'wb') as f:\n",
    "                for chunk in r.iter_content(chunk_size=8192):\n",
    "                    f.write(chunk)\n",
    "\n",
    "        print(f\"✅ Download complete: {file_name}\")\n"
   ]
  }
 ],
 "metadata": {
  "kernelspec": {
   "display_name": "VimeoAggregatorCondaEnv",
   "language": "python",
   "name": "python3"
  },
  "language_info": {
   "codemirror_mode": {
    "name": "ipython",
    "version": 3
   },
   "file_extension": ".py",
   "mimetype": "text/x-python",
   "name": "python",
   "nbconvert_exporter": "python",
   "pygments_lexer": "ipython3",
   "version": "3.10.14"
  }
 },
 "nbformat": 4,
 "nbformat_minor": 5
}
